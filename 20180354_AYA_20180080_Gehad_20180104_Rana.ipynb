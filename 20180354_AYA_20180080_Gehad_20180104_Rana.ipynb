{
 "cells": [
  {
   "cell_type": "code",
   "execution_count": 1,
   "metadata": {
    "id": "8QvV3RCPonYn"
   },
   "outputs": [],
   "source": [
    "import numpy as np\n",
    "\n",
    "import heapq\n",
    "\n",
    "import matplotlib.pyplot as plt\n",
    "\n",
    "from matplotlib.pyplot import figure\n",
    "\n",
    " "
   ]
  },
  {
   "cell_type": "markdown",
   "metadata": {},
   "source": [
    "## Make Grid \n",
    "### Grid (100 x 100) with start with (1,1) and target (95,95) with step one \n",
    "### All these parameters map to Assignment's requirements\n"
   ]
  },
  {
   "cell_type": "code",
   "execution_count": 2,
   "metadata": {},
   "outputs": [],
   "source": [
    "\n",
    "\n",
    "first_rows=[0., 0., 0., 0., 0., 0., 0., 0., 0., 0., 0., 0., 0., 0., 0., 0., 0.,\n",
    "       0., 0., 0., 0., 0., 0., 0., 0., 0., 0., 0., 0., 0., 0., 0., 0., 0.,\n",
    "       0., 0., 0., 0., 0.,0,1, 1., 1., 1., 1., 1., 1., 1., 1., 1., 1., 1., 1., 1., 1., 1.,1,\n",
    "       1., 1., 1., 1,0., 0., 0., 0., 0., 0., 0., 0., 0., 0., 0., 0., 0., 0., 0., 0., 0.,\n",
    "       0., 0., 0,0., 0., 0., 0., 0., 0., 0., 0., 0., 0., 0., 0., 0., 0., 0., 0., 0.,\n",
    "       0.,0]\n",
    "\n",
    "\n",
    "\n",
    "first_60_rows = first_rows*60\n",
    "\n",
    "Second_row_start=[0., 0., 0., 0., 0., 0., 0., 0., 0., 0., 0., 0., 0., 0., 0., 0., 0.,\n",
    "       0., 0., 0., 0., 0., 0., 0., 0., 0., 0., 0., 0., 0., 0., 0., 0., 0.,\n",
    "       0., 0., 0., 0., 0.,0, 1., 1., 1., 1., 1., 1., 1., 1., 1., 1., 1., 1., 1., 1., 1., 1.,\n",
    "       1., 1., 1., 1.,1.,0, 0., 0., 0., 0., 0., 0., 0.,0, 1., 1., 1., 1., 1., 1., 1., 1., 1., 1,1., 0., 0., 0., 0., 0., 0., 0., 0., 0., 0., 0., 0., 0., 0., 0., 0.,\n",
    "       0., 0., 0]\n",
    "SECOND_20_rows=Second_row_start*20\n",
    "\n",
    "\n",
    "\n",
    "legand_row_81=[1., 1., 1., 1., 1., 1., 1., 1., 1., 1., 1., 1., 1., 1., 1., 1., 1.,\n",
    "       1., 1., 1., 1,0., 0., 0., 0., 0., 0., 0., 0., 0., 0., 0., 0., 0., 0., 0., 0., 0.,\n",
    "       0., 0,1., 1., 1., 1., 1., 1., 1., 1., 1., 1., 1., 1., 1., 1., 1., 1., 1.,\n",
    "       1., 1., 1., 1.,0., 0., 0., 0., 0., 0., 0., 0.,0., 1., 1., 1., 1., 1., 1., 1., 1., 1., 1.,1., 0., 0., 0., 0., 0., 0., 0., 0., 0., 0., 0., 0., 0., 0., 0., 0.,\n",
    "       0., 0., 0]\n",
    "\n",
    "last_raw=[1., 1., 1., 1., 1., 1., 1., 1., 1., 1., 1., 1., 1., 1., 1., 1., 1.,\n",
    "       1., 1., 1., 1., 0., 0., 0., 0., 0., 0., 0., 0., 0., 0., 0., 0., 0.,\n",
    "       0., 0., 0., 0., 0., 0., 0., 0., 0., 0., 0., 0., 0., 0., 0., 0., 0.,\n",
    "       0., 0., 0., 0., 0., 0., 0., 0., 0., 0., 0., 0., 0., 0., 0., 0., 0.,\n",
    "       0., 0., 1., 1., 1., 1., 1., 1., 1., 1., 1., 1., 1., 0., 0., 0., 0.,\n",
    "       0., 0., 0., 0., 0., 0., 0., 0., 0., 0., 0., 0., 0., 0., 0.]\n",
    "last_raws=last_raw*19\n",
    "\n",
    "\n",
    "my_list=first_60_rows + SECOND_20_rows+legand_row_81 +  last_raws\n",
    "\n",
    "len(my_list)\n",
    "\n",
    "\n",
    "\n",
    "new_tar=np.array(my_list)\n",
    "\n",
    "grid=new_tar.reshape(100,100)"
   ]
  },
  {
   "cell_type": "code",
   "execution_count": 3,
   "metadata": {
    "id": "bDCcyKvANDjW"
   },
   "outputs": [],
   "source": [
    "grid=grid.astype(bool)"
   ]
  },
  {
   "cell_type": "code",
   "execution_count": 4,
   "metadata": {
    "colab": {
     "base_uri": "https://localhost:8080/"
    },
    "id": "dFgrlghbMCAT",
    "outputId": "ba4df39b-0626-43eb-934c-4ef78ce8e812"
   },
   "outputs": [
    {
     "data": {
      "text/plain": [
       "(100, 100)"
      ]
     },
     "execution_count": 4,
     "metadata": {},
     "output_type": "execute_result"
    }
   ],
   "source": [
    "grid.shape"
   ]
  },
  {
   "cell_type": "code",
   "execution_count": 5,
   "metadata": {
    "id": "otbBAbRfonYv"
   },
   "outputs": [],
   "source": [
    "start = (1,1)\n",
    "\n",
    "goal = (95,95)"
   ]
  },
  {
   "cell_type": "markdown",
   "metadata": {},
   "source": [
    "### We choose Manhattan distance as allowed movements have been restricted to be  angle 90"
   ]
  },
  {
   "cell_type": "code",
   "execution_count": 6,
   "metadata": {
    "id": "8dRejzhVonYw"
   },
   "outputs": [],
   "source": [
    "\n",
    "def heuristic(a, b):\n",
    "    return (np.abs(b[0] - a[0]) + np.abs(b[1] - a[1]))"
   ]
  },
  {
   "cell_type": "code",
   "execution_count": 7,
   "metadata": {
    "colab": {
     "base_uri": "https://localhost:8080/"
    },
    "id": "dfN6SCB-onYx",
    "outputId": "02ccc11f-13d9-49ef-e808-d741a4ed86f9"
   },
   "outputs": [],
   "source": [
    " \n",
    "\n",
    "def astar(array, start, goal):\n",
    "\n",
    "    adjacents = [(0,1),(-1,0),(1,0)]\n",
    "\n",
    "    close_set = set()\n",
    "\n",
    "    came_from = {}\n",
    "\n",
    "    grid_score = {start:0}\n",
    "\n",
    "    total_score = {start:heuristic(start, goal)}\n",
    "\n",
    "    open_list = []\n",
    "\n",
    "    heapq.heappush(open_list, (total_score[start], start))\n",
    " \n",
    "\n",
    "    while open_list:\n",
    "\n",
    "        current = heapq.heappop(open_list)[1]\n",
    "       \n",
    "\n",
    "        if current == goal:\n",
    "\n",
    "            data = []\n",
    "\n",
    "            while current in came_from:\n",
    "\n",
    "                data.append(current)\n",
    "\n",
    "                current = came_from[current]\n",
    "\n",
    "            return data\n",
    "\n",
    "        close_set.add(current)\n",
    "\n",
    "        for i, j in adjacents:\n",
    "\n",
    "            neighbor = current[0] + i, current[1] + j\n",
    "\n",
    "            temporal_score = grid_score[current] + heuristic(current, neighbor)\n",
    "          \n",
    "\n",
    "            if 0 <= neighbor[0] < array.shape[0]:\n",
    "\n",
    "                if 0 <= neighbor[1] < array.shape[1]:                \n",
    "\n",
    "                    if array[neighbor[0]][neighbor[1]] == 1:\n",
    "\n",
    "                        continue\n",
    "                else:\n",
    " # array bound y walls\n",
    "\n",
    "                    continue\n",
    "\n",
    "            else:\n",
    "# array bound x walls\n",
    "\n",
    "                continue\n",
    " \n",
    "\n",
    "            if neighbor in close_set and temporal_score >= grid_score.get(neighbor, 0):\n",
    "\n",
    "                continue\n",
    " \n",
    "\n",
    "            if  temporal_score < grid_score.get(neighbor, 0) or neighbor not in [i[1]for i in open_list]:\n",
    "\n",
    "                came_from[neighbor] = current\n",
    "\n",
    "                grid_score[neighbor] = temporal_score\n",
    "\n",
    "                total_score[neighbor] = temporal_score + heuristic(neighbor, goal)\n",
    "\n",
    "                heapq.heappush(open_list, (total_score[neighbor], neighbor))\n",
    " \n",
    "\n",
    "    return False"
   ]
  },
  {
   "cell_type": "code",
   "execution_count": 8,
   "metadata": {
    "colab": {
     "base_uri": "https://localhost:8080/"
    },
    "id": "dfN6SCB-onYx",
    "outputId": "02ccc11f-13d9-49ef-e808-d741a4ed86f9"
   },
   "outputs": [
    {
     "name": "stdout",
     "output_type": "stream",
     "text": [
      "[(1, 1), (1, 2), (1, 3), (1, 4), (1, 5), (1, 6), (1, 7), (1, 8), (1, 9), (1, 10), (1, 11), (1, 12), (1, 13), (1, 14), (1, 15), (1, 16), (1, 17), (1, 18), (1, 19), (1, 20), (1, 21), (1, 22), (1, 23), (1, 24), (1, 25), (1, 26), (1, 27), (1, 28), (1, 29), (1, 30), (1, 31), (1, 32), (1, 33), (1, 34), (1, 35), (1, 36), (1, 37), (1, 38), (1, 39), (2, 39), (3, 39), (4, 39), (5, 39), (6, 39), (7, 39), (8, 39), (9, 39), (10, 39), (11, 39), (12, 39), (13, 39), (14, 39), (15, 39), (16, 39), (17, 39), (18, 39), (19, 39), (20, 39), (21, 39), (22, 39), (23, 39), (24, 39), (25, 39), (26, 39), (27, 39), (28, 39), (29, 39), (30, 39), (31, 39), (32, 39), (33, 39), (34, 39), (35, 39), (36, 39), (37, 39), (38, 39), (39, 39), (40, 39), (41, 39), (42, 39), (43, 39), (44, 39), (45, 39), (46, 39), (47, 39), (48, 39), (49, 39), (50, 39), (51, 39), (52, 39), (53, 39), (54, 39), (55, 39), (56, 39), (57, 39), (58, 39), (59, 39), (60, 39), (61, 39), (62, 39), (63, 39), (64, 39), (65, 39), (66, 39), (67, 39), (68, 39), (69, 39), (70, 39), (71, 39), (72, 39), (73, 39), (74, 39), (75, 39), (76, 39), (77, 39), (78, 39), (79, 39), (80, 39), (81, 39), (81, 40), (81, 41), (81, 42), (81, 43), (81, 44), (81, 45), (81, 46), (81, 47), (81, 48), (81, 49), (81, 50), (81, 51), (81, 52), (81, 53), (81, 54), (81, 55), (81, 56), (81, 57), (81, 58), (81, 59), (81, 60), (81, 61), (81, 62), (81, 63), (81, 64), (81, 65), (81, 66), (81, 67), (81, 68), (81, 69), (80, 69), (79, 69), (78, 69), (77, 69), (76, 69), (75, 69), (74, 69), (73, 69), (72, 69), (71, 69), (70, 69), (69, 69), (68, 69), (67, 69), (66, 69), (65, 69), (64, 69), (63, 69), (62, 69), (61, 69), (60, 69), (59, 69), (59, 70), (59, 71), (59, 72), (59, 73), (59, 74), (59, 75), (59, 76), (59, 77), (59, 78), (59, 79), (59, 80), (59, 81), (59, 82), (59, 83), (59, 84), (59, 85), (59, 86), (59, 87), (59, 88), (59, 89), (59, 90), (59, 91), (59, 92), (59, 93), (59, 94), (59, 95), (60, 95), (61, 95), (62, 95), (63, 95), (64, 95), (65, 95), (66, 95), (67, 95), (68, 95), (69, 95), (70, 95), (71, 95), (72, 95), (73, 95), (74, 95), (75, 95), (76, 95), (77, 95), (78, 95), (79, 95), (80, 95), (81, 95), (82, 95), (83, 95), (84, 95), (85, 95), (86, 95), (87, 95), (88, 95), (89, 95), (90, 95), (91, 95), (92, 95), (93, 95), (94, 95), (95, 95)]\n"
     ]
    }
   ],
   "source": [
    "path = astar(grid, start, goal)\n",
    "\n",
    "path = path + [start]\n",
    "\n",
    "path = path[::-1]\n",
    "\n",
    "print(path)"
   ]
  },
  {
   "cell_type": "code",
   "execution_count": 10,
   "metadata": {
    "colab": {
     "base_uri": "https://localhost:8080/",
     "height": 972
    },
    "id": "6nd0ylpronY0",
    "outputId": "a0b3a4af-eadf-44cd-839b-932f1d1ed1ff"
   },
   "outputs": [
    {
     "data": {
      "image/png": "[encoded data removed]",
      "text/plain": [
       "<Figure size 1000x1000 with 1 Axes>"
      ]
     },
     "metadata": {
      "needs_background": "light"
     },
     "output_type": "display_data"
    }
   ],
   "source": [
    "\n",
    "x_ = []\n",
    "\n",
    "y_= []\n",
    "\n",
    "for i in (range(0,len(path))):\n",
    "\n",
    "    x = path[i][0]\n",
    "\n",
    "    y = path[i][1]\n",
    "\n",
    "    x_.append(x)\n",
    "\n",
    "    y_.append(y)\n",
    "\n",
    "fig, ax = plt.subplots(figsize=(10,10),dpi=100)\n",
    "ax.grid(True)\n",
    "\n",
    "ax.imshow(grid, cmap=plt.cm.PuRd )\n",
    "\n",
    "plt.xlim(0,100)\n",
    "plt.ylim(0, 100)\n",
    "\n",
    "plt.minorticks_on()\n",
    "\n",
    "plt.grid(b=True, which='minor', color='#999999', linestyle='-', alpha=0.2)\n",
    "  \n",
    "\n",
    "\n",
    "plt.grid(b=True, which='major', color='#666666', linestyle='-')\n",
    "\n",
    "ax.scatter(start[1],start[0], marker = \"*\", color = \"green\", s = 300)\n",
    "\n",
    "ax.scatter(goal[1],goal[0], marker = \"*\", color = \"red\", s = 300)\n",
    "\n",
    "ax.plot(y_,x_,color='blue')\n",
    "\n",
    "plt.show()"
   ]
  }
 ],
 "metadata": {
  "colab": {
   "collapsed_sections": [],
   "name": "AssRobot.ipynb",
   "provenance": []
  },
  "kernelspec": {
   "display_name": "Python 3",
   "language": "python",
   "name": "python3"
  },
  "language_info": {
   "codemirror_mode": {
    "name": "ipython",
    "version": 3
   },
   "file_extension": ".py",
   "mimetype": "text/x-python",
   "name": "python",
   "nbconvert_exporter": "python",
   "pygments_lexer": "ipython3",
   "version": "3.7.6"
  }
 },
 "nbformat": 4,
 "nbformat_minor": 1
}
